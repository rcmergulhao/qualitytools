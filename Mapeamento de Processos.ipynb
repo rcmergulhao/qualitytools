{
 "cells": [
  {
   "cell_type": "code",
   "execution_count": 2,
   "metadata": {},
   "outputs": [
    {
     "name": "stdout",
     "output_type": "stream",
     "text": [
      "^C\n"
     ]
    }
   ],
   "source": [
    "# Salve o conteúdo abaixo como uma célula no seu notebook Python e execute\n",
    "\n",
    "# Salve o script Streamlit em um arquivo\n",
    "with open('app.py', 'w') as f:\n",
    "    f.write(\"\"\"\n",
    "import streamlit as st\n",
    "from scipy.stats import binom\n",
    "\n",
    "# Função que encontra o plano amostral com base nos inputs fornecidos\n",
    "def encontrar_plano_amostral(TAMANHO_LOTE, NQA, PTDL, RISCO_FORNECEDOR_MAX, RISCO_CONSUMIDOR_MAX):\n",
    "    for tamanho_amostra in range(1, TAMANHO_LOTE + 1):\n",
    "        for aceitacao_maxima in range(tamanho_amostra + 1):\n",
    "            risco_fornecedor = 1 - binom.cdf(aceitacao_maxima, tamanho_amostra, NQA)\n",
    "            risco_consumidor = binom.cdf(aceitacao_maxima, tamanho_amostra, PTDL)\n",
    "            if risco_fornecedor <= RISCO_FORNECEDOR_MAX and risco_consumidor <= RISCO_CONSUMIDOR_MAX:\n",
    "                return tamanho_amostra, aceitacao_maxima, risco_fornecedor, risco_consumidor\n",
    "    return None, None, None, None\n",
    "\n",
    "# Interface do Streamlit\n",
    "st.title('Plano Amostral')\n",
    "\n",
    "# Entradas dos parâmetros\n",
    "TAMANHO_LOTE = st.number_input('Tamanho do Lote:', min_value=1, value=10000, step=1)\n",
    "NQA = st.number_input('NQA:', min_value=0.0, value=0.02, step=0.01, format=\"%.3f\")\n",
    "PTDL = st.number_input('PTDL:', min_value=0.0, value=0.04, step=0.01, format=\"%.3f\")\n",
    "RISCO_FORNECEDOR_MAX = st.number_input('Risco Fornec. Máx:', min_value=0.0, value=0.100, step=0.01, format=\"%.3f\")\n",
    "RISCO_CONSUMIDOR_MAX = st.number_input('Risco Cons. Máx:', min_value=0.0, value=0.075, step=0.01, format=\"%.3f\")\n",
    "\n",
    "# Botão para calcular o plano amostral\n",
    "if st.button('Calcular Plano Amostral'):\n",
    "    tamanho_amostra, aceitacao_maxima, risco_fornecedor, risco_consumidor = encontrar_plano_amostral(\n",
    "        TAMANHO_LOTE, NQA, PTDL, RISCO_FORNECEDOR_MAX, RISCO_CONSUMIDOR_MAX\n",
    "    )\n",
    "    \n",
    "    if tamanho_amostra is not None:\n",
    "        st.write(f'Tamanho da amostra: {tamanho_amostra}')\n",
    "        st.write(f'Índice de aceitação máxima: {aceitacao_maxima}')\n",
    "        st.write(f'Risco do fornecedor: {risco_fornecedor:.3f}')\n",
    "        st.write(f'Risco do consumidor: {risco_consumidor:.3f}')\n",
    "    else:\n",
    "        st.write('Nenhum plano amostral encontrado com os parâmetros fornecidos.')\n",
    "    \"\"\")\n",
    "\n",
    "# Execute o script Streamlit\n",
    "!streamlit run app.py\n",
    "\n"
   ]
  },
  {
   "cell_type": "code",
   "execution_count": null,
   "metadata": {},
   "outputs": [],
   "source": []
  }
 ],
 "metadata": {
  "kernelspec": {
   "display_name": "Python 3",
   "language": "python",
   "name": "python3"
  },
  "language_info": {
   "codemirror_mode": {
    "name": "ipython",
    "version": 3
   },
   "file_extension": ".py",
   "mimetype": "text/x-python",
   "name": "python",
   "nbconvert_exporter": "python",
   "pygments_lexer": "ipython3",
   "version": "3.11.9"
  }
 },
 "nbformat": 4,
 "nbformat_minor": 2
}
